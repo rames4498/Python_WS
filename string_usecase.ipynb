{
 "cells": [
  {
   "cell_type": "markdown",
   "metadata": {},
   "source": [
    "###### string use cases and strings as sequential lists"
   ]
  },
  {
   "cell_type": "code",
   "execution_count": 6,
   "metadata": {},
   "outputs": [],
   "source": [
    "my_string='my name is, sherlock holmes'"
   ]
  },
  {
   "cell_type": "code",
   "execution_count": 9,
   "metadata": {},
   "outputs": [
    {
     "data": {
      "text/plain": [
       "'y name is she'"
      ]
     },
     "execution_count": 9,
     "metadata": {},
     "output_type": "execute_result"
    }
   ],
   "source": [
    "my_string[1:14]"
   ]
  },
  {
   "cell_type": "code",
   "execution_count": 10,
   "metadata": {},
   "outputs": [],
   "source": [
    "my_string_as_list = ['my name is, sherlock holmes']"
   ]
  },
  {
   "cell_type": "code",
   "execution_count": 11,
   "metadata": {},
   "outputs": [
    {
     "data": {
      "text/plain": [
       "'my name is, sherlock holmes'"
      ]
     },
     "execution_count": 11,
     "metadata": {},
     "output_type": "execute_result"
    }
   ],
   "source": [
    "my_string_as_list[0]"
   ]
  },
  {
   "cell_type": "code",
   "execution_count": 26,
   "metadata": {},
   "outputs": [],
   "source": [
    "new_string = 'Widely regarded as one of the most simple and versatile programming languages out there, Python is used for web programming , video game building, microchip testing, desktop apps, and so much more. Used by programmers , developers, designers and everyone in between, it’s one of the easiest programming languages to learn, and definitely the best starting point for new coders. This course will not only give you an understanding of the code, but will enable you to create and run real world Python programs too.'"
   ]
  },
  {
   "cell_type": "code",
   "execution_count": 27,
   "metadata": {},
   "outputs": [
    {
     "data": {
      "text/plain": [
       "['Widely',\n",
       " 'regarded',\n",
       " 'as',\n",
       " 'one',\n",
       " 'of',\n",
       " 'the',\n",
       " 'most',\n",
       " 'simple',\n",
       " 'and',\n",
       " 'versatile',\n",
       " 'programming',\n",
       " 'languages',\n",
       " 'out',\n",
       " 'there,',\n",
       " 'Python',\n",
       " 'is',\n",
       " 'used',\n",
       " 'for',\n",
       " 'web',\n",
       " 'programming',\n",
       " ',',\n",
       " 'video',\n",
       " 'game',\n",
       " 'building,',\n",
       " 'microchip',\n",
       " 'testing,',\n",
       " 'desktop',\n",
       " 'apps,',\n",
       " 'and',\n",
       " 'so',\n",
       " 'much',\n",
       " 'more.',\n",
       " 'Used',\n",
       " 'by',\n",
       " 'programmers',\n",
       " ',',\n",
       " 'developers,',\n",
       " 'designers',\n",
       " 'and',\n",
       " 'everyone',\n",
       " 'in',\n",
       " 'between,',\n",
       " 'it’s',\n",
       " 'one',\n",
       " 'of',\n",
       " 'the',\n",
       " 'easiest',\n",
       " 'programming',\n",
       " 'languages',\n",
       " 'to',\n",
       " 'learn,',\n",
       " 'and',\n",
       " 'definitely',\n",
       " 'the',\n",
       " 'best',\n",
       " 'starting',\n",
       " 'point',\n",
       " 'for',\n",
       " 'new',\n",
       " 'coders.',\n",
       " 'This',\n",
       " 'course',\n",
       " 'will',\n",
       " 'not',\n",
       " 'only',\n",
       " 'give',\n",
       " 'you',\n",
       " 'an',\n",
       " 'understanding',\n",
       " 'of',\n",
       " 'the',\n",
       " 'code,',\n",
       " 'but',\n",
       " 'will',\n",
       " 'enable',\n",
       " 'you',\n",
       " 'to',\n",
       " 'create',\n",
       " 'and',\n",
       " 'run',\n",
       " 'real',\n",
       " 'world',\n",
       " 'Python',\n",
       " 'programs',\n",
       " 'too.']"
      ]
     },
     "execution_count": 27,
     "metadata": {},
     "output_type": "execute_result"
    }
   ],
   "source": [
    "new_string.split()"
   ]
  },
  {
   "cell_type": "code",
   "execution_count": 28,
   "metadata": {},
   "outputs": [],
   "source": [
    "new_list=new_string.split()"
   ]
  },
  {
   "cell_type": "code",
   "execution_count": 29,
   "metadata": {},
   "outputs": [
    {
     "name": "stdout",
     "output_type": "stream",
     "text": [
      "['Widely', 'regarded', 'as', 'one', 'of', 'the', 'most', 'simple', 'and', 'versatile', 'programming', 'languages', 'out', 'there,', 'Python', 'is', 'used', 'for', 'web', 'programming', ',', 'video', 'game', 'building,', 'microchip', 'testing,', 'desktop', 'apps,', 'and', 'so', 'much', 'more.', 'Used', 'by', 'programmers', ',', 'developers,', 'designers', 'and', 'everyone', 'in', 'between,', 'it’s', 'one', 'of', 'the', 'easiest', 'programming', 'languages', 'to', 'learn,', 'and', 'definitely', 'the', 'best', 'starting', 'point', 'for', 'new', 'coders.', 'This', 'course', 'will', 'not', 'only', 'give', 'you', 'an', 'understanding', 'of', 'the', 'code,', 'but', 'will', 'enable', 'you', 'to', 'create', 'and', 'run', 'real', 'world', 'Python', 'programs', 'too.']\n"
     ]
    }
   ],
   "source": [
    "print(new_list)"
   ]
  },
  {
   "cell_type": "markdown",
   "metadata": {},
   "source": [
    "###### if we want to check whether the particular element is there in list or not "
   ]
  },
  {
   "cell_type": "markdown",
   "metadata": {},
   "source": [
    "###### using membership operator"
   ]
  },
  {
   "cell_type": "code",
   "execution_count": 30,
   "metadata": {},
   "outputs": [
    {
     "data": {
      "text/plain": [
       "True"
      ]
     },
     "execution_count": 30,
     "metadata": {},
     "output_type": "execute_result"
    }
   ],
   "source": [
    "'understanding' in new_list\n",
    "#consider you need to check whether 'understnading is there or not and besides that when we need to know in which index position it lies in "
   ]
  },
  {
   "cell_type": "code",
   "execution_count": 31,
   "metadata": {},
   "outputs": [
    {
     "data": {
      "text/plain": [
       "68"
      ]
     },
     "execution_count": 31,
     "metadata": {},
     "output_type": "execute_result"
    }
   ],
   "source": [
    "new_list.index('understanding')"
   ]
  },
  {
   "cell_type": "code",
   "execution_count": 32,
   "metadata": {},
   "outputs": [
    {
     "data": {
      "text/plain": [
       "3"
      ]
     },
     "execution_count": 32,
     "metadata": {},
     "output_type": "execute_result"
    }
   ],
   "source": [
    "new_list.count('programming')"
   ]
  },
  {
   "cell_type": "code",
   "execution_count": 35,
   "metadata": {},
   "outputs": [
    {
     "data": {
      "text/plain": [
       "10"
      ]
     },
     "execution_count": 35,
     "metadata": {},
     "output_type": "execute_result"
    }
   ],
   "source": [
    "new_list.index('programming',0)"
   ]
  },
  {
   "cell_type": "code",
   "execution_count": null,
   "metadata": {},
   "outputs": [],
   "source": []
  }
 ],
 "metadata": {
  "kernelspec": {
   "display_name": "Python 3",
   "language": "python",
   "name": "python3"
  },
  "language_info": {
   "codemirror_mode": {
    "name": "ipython",
    "version": 3
   },
   "file_extension": ".py",
   "mimetype": "text/x-python",
   "name": "python",
   "nbconvert_exporter": "python",
   "pygments_lexer": "ipython3",
   "version": "3.5.4"
  }
 },
 "nbformat": 4,
 "nbformat_minor": 2
}
